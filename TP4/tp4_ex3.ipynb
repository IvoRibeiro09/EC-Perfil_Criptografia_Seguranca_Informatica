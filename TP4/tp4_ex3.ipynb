{
 "cells": [
  {
   "cell_type": "markdown",
   "metadata": {},
   "source": [
    "<h1><center>TP4 - Ex.3</center></h1>\n",
    "<p><center>May 27, 2024</center></p>\n",
    "\n",
    "\n",
    "### Estruturas Criptográficas\n",
    "\n",
    "PG53886, Ivo Miguel Alves Ribeiro\n",
    "\n",
    "A95323, Henrique Ribeiro Fernandes"
   ]
  },
  {
   "cell_type": "markdown",
   "metadata": {},
   "source": [
    "\n",
    "3. Construir tabelas de comparações das suas implementações, para os vários níveis de segurança  NIST e em termos dos seguintes parâmetros\n",
    "        1. Tempos: geração das chaves, produção da assinatura e verificação da assinatura.\n",
    "        2. Tamanhos: da chave pública, da chave privada e da assinatura."
   ]
  },
  {
   "cell_type": "code",
   "execution_count": 1,
   "metadata": {},
   "outputs": [
    {
     "name": "stdout",
     "output_type": "stream",
     "text": [
      "                         Name  Keygen Time (s)  Sign Time (s)  \\\n",
      "0          DilithiumML-DSA-44         0.014241       0.056340   \n",
      "1          DilithiumML-DSA-65         0.019064       0.135381   \n",
      "2          DilithiumML-DSA-87         0.025388       0.075831   \n",
      "3  Sphincs SLH-DSA-SHAKE-256s         0.841802      13.272503   \n",
      "\n",
      "   Verify Time (s)  Public Key Size (bytes)  Private Key Size (bytes)  \\\n",
      "0         0.014105                     1312                      2528   \n",
      "1         0.021570                     1952                      4000   \n",
      "2         0.030301                     2592                      4864   \n",
      "3         0.009735                       64                       128   \n",
      "\n",
      "   Signature Size (bytes)  \n",
      "0                    2420  \n",
      "1                    3293  \n",
      "2                    4595  \n",
      "3                   29792  \n"
     ]
    }
   ],
   "source": [
    "import time\n",
    "import pandas as pd\n",
    "from pmain.dilithium import Dilithium2, Dilithium3, Dilithium5\n",
    "from sphincs import sphincs\n",
    "\n",
    "# Função para medir o tempo de execução\n",
    "def measure_time(func, *args):\n",
    "    start_time = time.time()\n",
    "    result = func(*args)\n",
    "    end_time = time.time()\n",
    "    return result, end_time - start_time\n",
    "\n",
    "# Testando diferentes níveis de segurança\n",
    "security_levels = ['ML-DSA-44', 'ML-DSA-65', 'ML-DSA-87']\n",
    "results = []\n",
    "\n",
    "for level in security_levels:\n",
    "    # Configure as variáveis específicas para cada nível de segurança\n",
    "    if level == 'ML-DSA-44':\n",
    "        dilithium = Dilithium2\n",
    "    elif level ==  'ML-DSA-65':\n",
    "        dilithium = Dilithium3\n",
    "    elif level == 'ML-DSA-87':\n",
    "        dilithium = Dilithium5\n",
    "\n",
    "    # Medir tempos e tamanhos\n",
    "    (pk, sk), keygen_time = measure_time(dilithium.keygen)\n",
    "    msg = b\"Your message signed by Dilithium\"\n",
    "    sig, sign_time = measure_time(dilithium.sign, sk, msg)\n",
    "    verify_time = measure_time(dilithium.verify, pk, msg, sig)[1]\n",
    "\n",
    "    public_key_size = len(pk)\n",
    "    private_key_size = len(sk)\n",
    "    signature_size = len(sig)\n",
    "\n",
    "    results.append({\n",
    "        'Name': 'Dilithium'+level,\n",
    "        'Keygen Time (s)': keygen_time,\n",
    "        'Sign Time (s)': sign_time,\n",
    "        'Verify Time (s)': verify_time,\n",
    "        'Public Key Size (bytes)': public_key_size,\n",
    "        'Private Key Size (bytes)': private_key_size,\n",
    "        'Signature Size (bytes)': signature_size\n",
    "    })\n",
    "\n",
    "# Medir tempos e tamanhos\n",
    "(sk, pk), keygen_time = measure_time(sphincs.spx_keygen)\n",
    "msg = b\"Your message signed by Dilithium\"\n",
    "sig, sign_time = measure_time(sphincs.spx_sign, msg, sk)\n",
    "verify_time = measure_time(sphincs.spx_verify, msg, sig, pk)[1]\n",
    "\n",
    "public_key_size = len(pk)\n",
    "private_key_size = len(sk)\n",
    "signature_size = len(sig)\n",
    "\n",
    "results.append({\n",
    "    'Name':'Sphincs SLH-DSA-SHAKE-256s',\n",
    "    'Keygen Time (s)': keygen_time,\n",
    "    'Sign Time (s)': sign_time,\n",
    "    'Verify Time (s)': verify_time,\n",
    "    'Public Key Size (bytes)': public_key_size,\n",
    "    'Private Key Size (bytes)': private_key_size,\n",
    "    'Signature Size (bytes)': signature_size\n",
    "})\n",
    "\n",
    "# Criar um DataFrame com os resultados\n",
    "df = pd.DataFrame(results)\n",
    "\n",
    "# Exibir a tabela de resultados\n",
    "print(df)\n"
   ]
  }
 ],
 "metadata": {
  "kernelspec": {
   "display_name": "SageMath 10.2",
   "language": "sage",
   "name": "sagemath"
  },
  "language_info": {
   "codemirror_mode": {
    "name": "ipython",
    "version": 3
   },
   "file_extension": ".py",
   "mimetype": "text/x-python",
   "name": "python",
   "nbconvert_exporter": "python",
   "pygments_lexer": "ipython3",
   "version": "3.11.8"
  }
 },
 "nbformat": 4,
 "nbformat_minor": 2
}
