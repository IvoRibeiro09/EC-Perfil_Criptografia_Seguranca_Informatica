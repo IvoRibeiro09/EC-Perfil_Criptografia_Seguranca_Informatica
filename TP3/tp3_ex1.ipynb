{
 "cells": [
  {
   "cell_type": "markdown",
   "metadata": {},
   "source": [
    "<h1><center>TP3 - Ex.1</center></h1>\n",
    "<p><center>Abril 25, 2024</center></p>\n",
    "\n",
    "\n",
    "### Estruturas Criptográficas\n",
    "\n",
    "PG53886, Ivo Miguel Alves Ribeiro\n",
    "\n",
    "A95323, Henrique Ribeiro Fernandes"
   ]
  },
  {
   "cell_type": "markdown",
   "metadata": {},
   "source": [
    "# Hidden Number Problem\n",
    "\n",
    "Parâmetros segundo Neguyen & Schparlinski\n",
    "* Um primo $\\quad p\\approx 2^d$\n",
    "* O número de bits mais significativos $\\quad k > \\sqrt{d} + |d|$\n",
    "* A dimensão do reticulado  $\\quad n > 2 \\sqrt{d}$\n"
   ]
  },
  {
   "cell_type": "code",
   "execution_count": 10,
   "metadata": {},
   "outputs": [],
   "source": [
    "from sage.all import*"
   ]
  },
  {
   "cell_type": "code",
   "execution_count": 11,
   "metadata": {},
   "outputs": [],
   "source": [
    "def k_NS(p):\n",
    "    return ceil(sqrt(log(p,2))) + ceil(log(log(p,2),2))\n",
    "                \n",
    "def n_NS(p):\n",
    "    return 2*ceil(sqrt(log(p,2)))"
   ]
  },
  {
   "cell_type": "code",
   "execution_count": 12,
   "metadata": {},
   "outputs": [],
   "source": [
    "class HNP(object):\n",
    "    def __init__(self,p=257):\n",
    "        \n",
    "        self.n = n_NS(p)\n",
    "        self.red = None\n",
    "        \n",
    "        if not p.is_prime():\n",
    "            raise ValueError(\"Não é primo \",p)\n",
    "        self.p = p\n",
    " \n",
    "        k = k_NS(p)\n",
    "        if 2**k >= p:\n",
    "            raise ValueError(\"Bits a mais\",k)\n",
    "        self.lam = 2**k\n",
    "    \n",
    "    ##extraçao dos bits mais significativos\n",
    "    def msb(self,y):\n",
    "        p = self.p; L = self.lam \n",
    "        return floor(y*L/p)\n",
    "    \n",
    "    def problema(self ,s=None ,x=None ,u=None):       \n",
    "        # Parâmetros\n",
    "        p = self.p; \n",
    "          \n",
    "        s = ZZ.random_element(1,p)\n",
    "        ### criaçao de um lista x random\n",
    "        self.xs = [ZZ.random_element(1,p) for i in range(self.n)]\n",
    "        ### criaçao da lista u calculada apartir do segredo e do x\n",
    "        self.us = [self.msb(s*x % p) for x in self.xs ]\n",
    "        self.s = s\n",
    "\n",
    "    def reducao(self,Big=None):\n",
    "        # parâmetros\n",
    "        p = self.p; L = self.lam ; B = p/L ; A = 1/L\n",
    "        if not Big:\n",
    "            Big = L*p  ## qualquer inteiro grande\n",
    "        n   = self.n\n",
    "        m   = 2 + n\n",
    "        \n",
    "        # Construção das matrizes\n",
    "        linha1 = Matrix(QQ,1,m,[x for x in self.xs]+[A,0])\n",
    "        linha2 = Matrix(QQ,1,m,[-u*B for u in self.us]+[0,Big])\n",
    "        czeros = Matrix(QQ,n,1,[0]*n)\n",
    "        qident = p*identity_matrix(ZZ,n)\n",
    "        linha3 = block_matrix(QQ,1,3,[qident,czeros,czeros])\n",
    "        G      = block_matrix(QQ,3,1,[linha3,linha1,linha2])\n",
    "\n",
    "        # Redução LLL \n",
    "        self.G = G.LLL()\n",
    "    \n",
    "    ### testa se o segredo calculado é igual ao segredo original\n",
    "    def teste(self):\n",
    "        L = self.lam ; p = self.p \n",
    "        \n",
    "        erro   = self.G[-1][-2]\n",
    "        s_calc = floor(erro * L) % p\n",
    "        \n",
    "        if self.s == s_calc:\n",
    "            print (\"\\nsegredo calculado \")\n",
    "            return s_calc\n",
    "        else:\n",
    "            raise ValueError(\"\\nvalor incorreto do segredo\")\n",
    "        "
   ]
  },
  {
   "cell_type": "code",
   "execution_count": 13,
   "metadata": {},
   "outputs": [],
   "source": [
    "d = 512\n",
    "p = random_prime(2^d, lbound = 2^(d-1))"
   ]
  },
  {
   "cell_type": "markdown",
   "metadata": {},
   "source": [
    "## Teste"
   ]
  },
  {
   "cell_type": "code",
   "execution_count": 14,
   "metadata": {},
   "outputs": [
    {
     "name": "stdout",
     "output_type": "stream",
     "text": [
      "\n",
      "segredo calculado \n"
     ]
    },
    {
     "data": {
      "text/plain": [
       "7685347127550406940011725421436697174371280881932128108390496013136038280638982594713505366132233834533216376970555030190520228790149040785711039593833207"
      ]
     },
     "execution_count": 14,
     "metadata": {},
     "output_type": "execute_result"
    }
   ],
   "source": [
    "hnp = HNP(p=p)\n",
    "hnp.problema()\n",
    "hnp.reducao()\n",
    "hnp.teste()"
   ]
  }
 ],
 "metadata": {
  "kernelspec": {
   "display_name": "SageMath 10.2",
   "language": "sage",
   "name": "sagemath"
  },
  "language_info": {
   "codemirror_mode": {
    "name": "ipython",
    "version": 3
   },
   "file_extension": ".py",
   "mimetype": "text/x-python",
   "name": "python",
   "nbconvert_exporter": "python",
   "pygments_lexer": "ipython3",
   "version": "3.11.8"
  }
 },
 "nbformat": 4,
 "nbformat_minor": 4
}
