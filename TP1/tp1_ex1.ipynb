{
 "cells": [
  {
   "cell_type": "markdown",
   "metadata": {},
   "source": [
    "<h1><center>TP1 - Ex.1</center></h1>\n",
    "<p><center>Fevereiro 20, 2024</center></p>\n"
   ]
  },
  {
   "cell_type": "markdown",
   "metadata": {},
   "source": [
    "### Estruturas Criptográficas\n",
    "\n",
    "PG53886, Ivo Miguel Alves Ribeiro\n",
    "\n",
    "A95323, Henrique Ribeiro Fernandes"
   ]
  },
  {
   "cell_type": "markdown",
   "metadata": {},
   "source": [
    "#### Trabalho Pratico 1 Exercicio 1\n",
    "\n",
    "\n",
    "1. Use a package Cryptography   e  o package ascon (instalar daqui) para  criar um comunicação privada assíncrona em modo  “Lightweight Cryptography” entre um agente Emitter e um agente Receiver que cubra os seguintes aspectos:\n",
    "\n",
    "    a. Autenticação do criptograma e dos metadados (associated data) usando Ascon em modo de cifra.\n",
    "\n",
    "    b. As chaves de cifra, autenticação  e  os “nounces” são gerados por um gerador pseudo aleatório (PRG)  usando o Ascon em modo XOF. As diferentes chaves para inicialização do PRG são inputs do emissor e do receptor.\n",
    "    \n",
    "    c. Para implementar a comunicação cliente-servidor use o package python `asyncio`"
   ]
  },
  {
   "cell_type": "code",
   "execution_count": 1,
   "metadata": {},
   "outputs": [],
   "source": [
    "import ascon\n",
    "\n",
    "def generate_key(password, length_Key):\n",
    "    password = password.encode('utf-8')\n",
    "    key = ascon.hash(password, variant=\"Ascon-Xof\", hashlength=length_Key)\n",
    "    return key\n",
    "\n",
    "def generate_nonce(password, length_nonce):\n",
    "    password = password.encode('utf-8')\n",
    "    nonce = ascon.hash(password, variant=\"Ascon-Xof\", hashlength=length_nonce)\n",
    "    return nonce\n",
    "\n",
    "def generate_tag(password, length_tag, message, metadata):\n",
    "    key = generate_key(password, 16)\n",
    "    tag = ascon.mac(key, message + metadata, \"Ascon-Mac\")\n",
    "    tag = ascon.hash(tag, variant=\"Ascon-Xof\", hashlength=length_tag)\n",
    "    return tag"
   ]
  },
  {
   "cell_type": "markdown",
   "metadata": {},
   "source": [
    "<p> \n",
    "Assim como pedido no ponto b) do exercicio tanto a chave de cifra, como a tag de antencicação e a nonce são gerados por um gerador pseudo aleatório (PRG) usando o Ascon em modo XOF, o que garante que para uma determinada password fornecida é sempre gerada a mesma combinação de bits. \n",
    "Assim tanto o Emitter como o Receiver tem acesso às palavras-passe que geram as chaves de cifra e a tag de autenticação para inicialização dos PRG, conseguem ter acesso à mesma combinação de bits em ambas as partes da comunicação.\n",
    "Conseguimos perceber pela função generate-tag como é feita a autenticação pedida pelo ponto a), onde usamos a palavra-passe de geração de autenticação para gerar uma chave única que é usada juntamente com a concatenação do plaintext e metadados para gerar uma tag, tag essa que, por fim, é usada como chave para gerar uma combinação única de tamanho fixo usando um PRG com Ascon em modo XOF.\n",
    "</p>"
   ]
  },
  {
   "cell_type": "markdown",
   "metadata": {},
   "source": [
    "<b>Generate Key with password check!</b>"
   ]
  },
  {
   "cell_type": "code",
   "execution_count": 2,
   "metadata": {},
   "outputs": [
    {
     "name": "stdout",
     "output_type": "stream",
     "text": [
      "Message: password\n",
      "ASCON Hash Output: 65f31b63aece5b3ac3d42367623afcf9\n"
     ]
    }
   ],
   "source": [
    "password = \"password\"\n",
    "hash_length = 16\n",
    "\n",
    "test_key = generate_key(password, hash_length)\n",
    "\n",
    "print(f\"Message: {password}\")\n",
    "print(f\"ASCON Hash Output: {test_key.hex()}\")"
   ]
  },
  {
   "cell_type": "markdown",
   "metadata": {},
   "source": [
    "<p>Demonstração simples de como a mesma password gera sempre a mesma combinação de bits.</p>"
   ]
  },
  {
   "cell_type": "markdown",
   "metadata": {},
   "source": [
    "Termos acordados"
   ]
  },
  {
   "cell_type": "code",
   "execution_count": 3,
   "metadata": {},
   "outputs": [],
   "source": [
    "key_length = 16\n",
    "nonce_length = 16\n",
    "tag_length = 16\n",
    "variant=\"Ascon-128\""
   ]
  },
  {
   "cell_type": "markdown",
   "metadata": {},
   "source": [
    "<p>\n",
    "Estes valores são valores previamente acordados entre o emitter e o reciever para fins de serialização do pacote enviado\n",
    "</p>"
   ]
  },
  {
   "cell_type": "markdown",
   "metadata": {},
   "source": [
    "Receiver"
   ]
  },
  {
   "cell_type": "code",
   "execution_count": 4,
   "metadata": {},
   "outputs": [],
   "source": [
    "import asyncio\n",
    "import ascon\n",
    "\n",
    "\n",
    "def serialize(data):\n",
    "    offset0 = 0 \n",
    "    offset1 = 2\n",
    "    t_meta = int.from_bytes(data[offset0:offset1], \"big\")\n",
    "    offset0 = offset1\n",
    "    offset1 = offset1 + t_meta\n",
    "    metadados = data[offset0:offset1]\n",
    "    offset0 = offset1\n",
    "    offset1 = offset1 + tag_length\n",
    "    received_tag = data[offset0:offset1]\n",
    "    offset0 = offset1\n",
    "    offset1 = offset1 + nonce_length\n",
    "    nonce = data[offset0:offset1]\n",
    "    offset0 = offset1\n",
    "    data = data[offset0:]\n",
    "    return (metadados, received_tag, nonce, data)\n",
    "\n",
    "\n",
    "async def handle_client(reader, writer, password_to_key, password_to_tag):\n",
    "    addr = writer.get_extra_info('peername')\n",
    "    data = await reader.read(200)\n",
    "    if data:\n",
    "        print(\"(Receiver) Pacote recebido: \", data.hex() , \" from \", addr)\n",
    "        (metadados, received_tag, nonce, data) = serialize(data)\n",
    "        \n",
    "        key = generate_key(password_to_key, key_length)\n",
    "        print(f\"(Receiver)(key) {key.hex()}\")\n",
    "\n",
    "        message = ascon.decrypt(key, nonce, metadados, data, variant)\n",
    "\n",
    "        tag = generate_tag(password_to_tag, tag_length, message, metadados)\n",
    "        print(f\"(Receiver)(tag) {tag.hex()}\")\n",
    "        \n",
    "        if received_tag == tag:\n",
    "            print(\"(Receiver) Mensagem autenticada com sucesso\")\n",
    "            print(f\"(Receiver) Mensagem decifrada: {message.decode('utf-8')}\")\n",
    "        else:\n",
    "            print(\"(Receiver) Mensagem nao autenticada autenticada com sucesso\")\n",
    "    writer.close()\n",
    "\n",
    "\n",
    "async def receiver(password_to_key, password_to_tag):\n",
    "    server = await asyncio.start_server(\n",
    "        lambda r, w: handle_client(r, w, password_to_key, password_to_tag),\n",
    "        '127.0.0.1', 12347)\n",
    "    addr = server.sockets[0].getsockname()\n",
    "    print(f'(Receiver) Serving on {addr}')\n",
    "\n",
    "    await asyncio.sleep(3)\n",
    "    server.close()\n",
    "    await server.wait_closed()"
   ]
  },
  {
   "cell_type": "markdown",
   "metadata": {},
   "source": [
    "<p>\n",
    "Receiver tem a função de servidor, é responsavel por abrir a socket de comunicação e aguardar a receção de um pacote.\n",
    "Após a receção de um pacote passa a informação recebida por uma função de serialize, onde a informação é repartida e dividida conforme os tamanhos anteriormente acordados.\n",
    "Assim a cada pacote recebido é recebido um conjunto de bits que corresponde aos metadados, um outro com a tag gerada pelo emitter, um outro com a nonce e ainda um com a mensagem cifrada.\n",
    "Depois é gerada a chave de cifra uma vez que o reciever tem a mesma palavra-chave que o emitter que gera a mesma combinação de bits. Com essa chave, nonce, mensagem cifrada e metadados recebidos no pacote decifra a mensagem.\n",
    "Para validar a informação recebida, isto é, garantir a integridade da receção da mensagem, o receiver gera uma tag com a informação recebida combinada com a palavra-chave para gerar uma tag única e igual à do emitter, e compara a mesma com a recebida previamente, correspondendo a mensagens válidas apenas as mensagens em pacotes que esta comparação corresponder. \n",
    "</p>"
   ]
  },
  {
   "cell_type": "markdown",
   "metadata": {},
   "source": [
    "Emmiter"
   ]
  },
  {
   "cell_type": "code",
   "execution_count": 5,
   "metadata": {},
   "outputs": [],
   "source": [
    "import asyncio\n",
    "import ascon\n",
    "\n",
    "async def emmiter(message, password_to_key, password_to_nonce, password_to_tag):\n",
    "    message = message.encode()\n",
    "    key = generate_key(password_to_key, key_length)\n",
    "    print(f\"(Emitter )(key) {key.hex()}\")\n",
    "    \n",
    "    nonce = generate_nonce(password_to_nonce, nonce_length) \n",
    "    metadados = b\"criado para fins de teste\"\n",
    "\n",
    "    reader, writer = await asyncio.open_connection(\n",
    "        '127.0.0.1', 12347)\n",
    "\n",
    "    tag = generate_tag(password_to_tag, tag_length, message, metadados)\n",
    "    print(f\"(Emitter )(tag) {tag.hex()}\")\n",
    "\n",
    "    data = ascon.encrypt(key, nonce, metadados, message,  variant)\n",
    "    t_meta = len(metadados)\n",
    "    data = t_meta.to_bytes(2, 'big') + metadados + tag + nonce + data\n",
    "    \n",
    "    writer.write(data)\n",
    "    print(\"(Emitter ) Pacote enviado : \", data.hex())\n",
    "    await writer.drain()\n",
    "\n",
    "    writer.close()\n",
    "    await writer.wait_closed()"
   ]
  },
  {
   "cell_type": "markdown",
   "metadata": {},
   "source": [
    "Emitter tem a função de cliente, sendo por isso responsavel por cifrar a mensagem e enviar o pacote de dados com toda a informação necessaria para a sua decifragem.\n",
    "Inicialmente é gerada uma chave com a palavra-chave para geração de chave de cifra, e posteriormente uma nonce tambem recorrendo a um PRG e com uma palavra-chave igualmente fornecida como input.\n",
    "Após abrir a conexão, do lado de emitter, é gerada a tag de autenticação recorrendo como acima definida à chave de autenticação, mensagem a cifrar e aos metadados.\n",
    "De seguida a mensagem é cifrada através da função encrypt do Ascon à qual são passados argumentos como metadados, nonce e chave.\n",
    "Por fim é enviada o pacote respeitando os parametros previamente acordados de tamanho entre o emitter e o reciever."
   ]
  },
  {
   "cell_type": "code",
   "execution_count": 6,
   "metadata": {},
   "outputs": [
    {
     "name": "stdout",
     "output_type": "stream",
     "text": [
      "(Emitter )(key) 6a1b91254d34f868ad888fa554a167c5\n",
      "(Receiver) Serving on ('127.0.0.1', 12347)\n"
     ]
    },
    {
     "name": "stdout",
     "output_type": "stream",
     "text": [
      "(Emitter )(tag) 5abdf764e22b456f088dda6bed7181bd\n",
      "(Emitter ) Pacote enviado :  001963726961646f20706172612066696e732064652074657374655abdf764e22b456f088dda6bed7181bd39c3c486592487a7068be171994aa380b045c55d50ebf8ea9904b9a5b9d3deafcd0f6738530b898fd608e47d778d455fa011049b34fe757c9eb77c\n",
      "(Receiver) Pacote recebido:  001963726961646f20706172612066696e732064652074657374655abdf764e22b456f088dda6bed7181bd39c3c486592487a7068be171994aa380b045c55d50ebf8ea9904b9a5b9d3deafcd0f6738530b898fd608e47d778d455fa011049b34fe757c9eb77c  from  ('127.0.0.1', 62800)\n",
      "(Receiver)(key) 6a1b91254d34f868ad888fa554a167c5\n",
      "(Receiver)(tag) 5abdf764e22b456f088dda6bed7181bd\n",
      "(Receiver) Mensagem autenticada com sucesso\n",
      "(Receiver) Mensagem decifrada: Hello, server from emitter!\n"
     ]
    }
   ],
   "source": [
    "import asyncio\n",
    "import nest_asyncio\n",
    "\n",
    "nest_asyncio.apply()\n",
    "\n",
    "mensagem = \"Hello, server from emitter!\"\n",
    "password_to_key = \"password_to_key\"\n",
    "password_to_nonce = \"password_to_nonce\"\n",
    "password_to_tag = \"password_to_tag\"\n",
    "\n",
    "async def main():\n",
    "    task1 = asyncio.create_task(receiver(password_to_key, password_to_tag))\n",
    "    task2 = asyncio.create_task(emmiter(mensagem, password_to_key, password_to_nonce, password_to_tag))\n",
    "    await asyncio.gather(task1, task2)\n",
    "    \n",
    "    \n",
    "await main()"
   ]
  },
  {
   "cell_type": "markdown",
   "metadata": {},
   "source": [
    "Como era de espectar, uma vez que não houve nenhum ataque comprometendo a integridade do pacote de dados enviado, a mensagem do emitter chega e é decifrada corretamnete por parte do reciever.\n",
    "Ressaltamos ainda as prints das combinações de bits correspondetes à chave de cifra gerada tanto do lado do emitter como do reciever, que são equivalentes uma vez que a palavra-chave usada para as gerar é também ela identica, assim como a tag de autenticação em ambos, o que permite que a mensagem seja autenticada e revelada pelo reciever.   "
   ]
  }
 ],
 "metadata": {
  "kernelspec": {
   "display_name": "Python 3 (ipykernel)",
   "language": "python",
   "name": "python3"
  },
  "language_info": {
   "codemirror_mode": {
    "name": "ipython",
    "version": 3
   },
   "file_extension": ".py",
   "mimetype": "text/x-python",
   "name": "python",
   "nbconvert_exporter": "python",
   "pygments_lexer": "ipython3",
   "version": "3.11.7"
  }
 },
 "nbformat": 4,
 "nbformat_minor": 4
}
