{
 "cells": [
  {
   "cell_type": "markdown",
   "metadata": {},
   "source": [
    "<h1><center>TP2 - Ex.3</center></h1>\n",
    "<p><center>Abril 1, 2024</center></p>\n",
    "\n",
    "\n",
    "### Estruturas Criptográficas\n",
    "\n",
    "PG53886, Ivo Miguel Alves Ribeiro\n",
    "\n",
    "A95323, Henrique Ribeiro Fernandes"
   ]
  },
  {
   "cell_type": "code",
   "execution_count": 1,
   "metadata": {
    "vscode": {
     "languageId": "python"
    }
   },
   "outputs": [],
   "source": [
    "from sage.all import *\n",
    "from aux_func import *"
   ]
  },
  {
   "cell_type": "code",
   "execution_count": 2,
   "metadata": {
    "vscode": {
     "languageId": "python"
    }
   },
   "outputs": [],
   "source": [
    "class BonehFranklinCryptosystem:\n",
    "    def __init__(self):\n",
    "        pass\n",
    "    \n",
    "    def BFsetup(self, version, n):\n",
    "        if n not in [1024, 2048, 3072, 7680, 15360]:\n",
    "            raise ValueError(\"Invalid security parameter\")\n",
    "        \n",
    "        if version != 2:\n",
    "            raise ValueError(\"Invalid version number\")\n",
    "        else:\n",
    "            public_params,s= self.BFsetup1(n)\n",
    "            \n",
    "        return public_params,s\n",
    "    \n",
    "    def BFsetup1(self,n):\n",
    "        #1\n",
    "        version = 2\n",
    "        \n",
    "        #2\n",
    "        if n == 1024:\n",
    "            n_p, n_q, hashfcn = 512, 160, \"1.3.14.3.2.26\"  # SHA-1\n",
    "        elif n == 2048:\n",
    "            n_p, n_q, hashfcn = 1024, 224, \"2.16.840.1.101.3.4.2.4\"  # SHA-224\n",
    "        elif n == 3072:\n",
    "            n_p, n_q, hashfcn = 1536, 256, \"2.16.840.1.101.3.4.2.1\"  # SHA-256\n",
    "        elif n == 7680:\n",
    "            n_p, n_q, hashfcn = 3840, 384, \"2.16.840.1.101.3.4.2.2\"  # SHA-384\n",
    "        elif n == 15360:\n",
    "            n_p, n_q, hashfcn = 7680, 512, \"2.16.840.1.101.3.4.2.3\"  # SHA-512\n",
    "\n",
    "        while True:\n",
    "            #3\n",
    "            while True:\n",
    "                # Escolha aleatória de a e b\n",
    "                #a = randint(1, n_q-1)  \n",
    "                #b = randint(1, n_q-1)  \n",
    "                \n",
    "                #q = 2**a + 2**b + 1\n",
    "                q = Integer(1393796574908163946345982391759047617413119)\n",
    "                if q.is_prime() and q < 2**n_q:\n",
    "                    for r in range(1, (2 ** n_p)//(12*q)):\n",
    "                        # Calcular p\n",
    "                        p = 12 * r * q - 1\n",
    "\n",
    "                        # Verificar se p é primo e menor que 2**n_p\n",
    "                        if p < 2**n_p and p.is_prime():\n",
    "                            break\n",
    "                            \n",
    "                    if (12*r*q-1 ==p) and p < 2**n_p and p.is_prime():\n",
    "                        break\n",
    "            #4\n",
    "            F_P = GF(p) # y^2 = x^3 + 1\n",
    "            a = 0\n",
    "            b = 1\n",
    "            E = EllipticCurve(F_P, [a, b])\n",
    "\n",
    "            point =E.random_element()\n",
    "            P_prime = (point[0], point[1])\n",
    "            P = 12 * r * E(P_prime)\n",
    "            \n",
    "            if P!= 0:\n",
    "                break\n",
    "        \n",
    "        #5\n",
    "        s = randint(2, q - 1)\n",
    "        P_pub = s * P\n",
    "        \n",
    "        return {'version': version,'E': E , 'p': p, 'q': q, 'P': P, 'P_pub': P_pub, 'hashfcn': hashfcn}, s\n",
    "    \n",
    "    \n",
    "    ##direita\n",
    "    def BFderivePubl(self, id, public_params):\n",
    "        E, p, q, hashfcn = public_params['E'], public_params['p'], public_params['q'], public_params['hashfcn']\n",
    "        hashfcn = Hashfunc(hashfcn)\n",
    "        Q_id = HashToPoint(E, p, q, id, hashfcn)  \n",
    "        return Q_id\n",
    "    \n",
    "\n",
    "    ###direita\n",
    "    def BFextractPriv(self, id, public_params, s):\n",
    "        Q_id = self.BFderivePubl(id, public_params)\n",
    "        return s * Q_id\n",
    "    \n",
    "\n",
    "\n",
    "    def BFencrypt(self, m, id, public_params):\n",
    "        E, p, q, P, P_pub, hashfcn = public_params['E'], public_params['p'], public_params['q'], public_params['P'], public_params['P_pub'], public_params['hashfcn']\n",
    "        \n",
    "        #1 \n",
    "        hashfcn = Hashfunc(hashfcn)\n",
    "        hashlen = hashfcn().digest_size\n",
    "        #2\n",
    "        Q_id =  self.BFderivePubl(id, public_params)\n",
    "        #3 \n",
    "        rho = bytes([randint(0, 255) for _ in range(hashlen)])\n",
    "        #4 \n",
    "        t = hashfcn(m).digest()\n",
    "        #5 \n",
    "        l = HashToRange(rho+t, q, hashfcn)\n",
    "        if len(rho+t) != 2*hashlen :\n",
    "            raise ValueError(\"The concatenation of rho and t most have (2 * hashlen)-octet)\")\n",
    "        if l < 0 or l > q -1:\n",
    "            raise ValueError(\"Invalid value l in Encryption:\"+str(l))\n",
    "        #6 \n",
    "        U = l * P\n",
    "        #7 \n",
    "        theta = pairing(E, p, q, P_pub, Q_id)\n",
    "        #8\n",
    "        theta_prime = theta**l\n",
    "        #9 \n",
    "        z = canonical_encoding(E,p, None, 0,theta_prime)\n",
    "        #10\n",
    "        w = hashfcn(z).digest()\n",
    "        #11\n",
    "        V = bytes([(a).__xor__(b) for a, b in zip(w, rho)])\n",
    "        #12\n",
    "        W = bytes([(a).__xor__(b) for a, b in zip(HashBytes(len(m),rho,hashfcn), m)])\n",
    "        return U, V, W\n",
    "    \n",
    "    def BFdecrypt(self, S_id, ciphertext, public_params):\n",
    "        E, p, q, P, P_pub, hashfcn = public_params['E'], public_params['p'], public_params['q'], public_params['P'], public_params['P_pub'], public_params['hashfcn']\n",
    "        U, V, W = ciphertext\n",
    "        #1 \n",
    "        hashfcn = Hashfunc(hashfcn)\n",
    "        hashlen = hashfcn().digest_size\n",
    "        #2\n",
    "        theta = pairing(E, p, q, U, S_id)\n",
    "        #3\n",
    "        z = canonical_encoding(E,p, None, 0,theta)\n",
    "        #4\n",
    "        w = hashfcn(z).digest()\n",
    "        #5\n",
    "        rho = bytes([(a).__xor__(b) for a, b in zip(w, V)])\n",
    "        #5\n",
    "        m = bytes([(a).__xor__(b) for a, b in zip(HashBytes(len(W),rho,hashfcn), W)])\n",
    "        #7\n",
    "        t = hashfcn(m).digest()\n",
    "        #8\n",
    "        l = HashToRange(rho+t, q, hashfcn)\n",
    "        #9\n",
    "        if l * P != U:\n",
    "            return \"Invalid ciphertext\"\n",
    "        return m"
   ]
  },
  {
   "cell_type": "markdown",
   "metadata": {},
   "source": [
    "teste"
   ]
  },
  {
   "cell_type": "code",
   "execution_count": 3,
   "metadata": {
    "vscode": {
     "languageId": "python"
    }
   },
   "outputs": [],
   "source": [
    "\n",
    "def create_BF_cryptosystem():\n",
    "    # Criando uma instância do criptossistema Boneh-Franklin\n",
    "    bf_crypto = BonehFranklinCryptosystem()\n",
    "    \n",
    "    # Setup do criptossistema\n",
    "    version = 2\n",
    "    security_parameter = 1024\n",
    "    public_params, master_secret = bf_crypto.BFsetup(version, security_parameter)\n",
    "    # Gerando chaves pública e privada para uma identidade\n",
    "    identity = \"alice@example.com\"\n",
    "    public_key = bf_crypto.BFderivePubl(identity, public_params)\n",
    "    private_key = bf_crypto.BFextractPriv(identity, public_params, master_secret)\n",
    "\n",
    "    return bf_crypto,identity, public_params , private_key\n",
    "    \n",
    "\n",
    "bf_crypto,identity, public_params , private_key = create_BF_cryptosystem()"
   ]
  },
  {
   "cell_type": "code",
   "execution_count": 4,
   "metadata": {
    "vscode": {
     "languageId": "python"
    }
   },
   "outputs": [
    {
     "name": "stdout",
     "output_type": "stream",
     "text": [
      "Test passed successfully!\n"
     ]
    }
   ],
   "source": [
    "def test_BF_cryptosystem(bf_crypto,identity, public_params , private_key):\n",
    "    # Mensagem a ser criptografada\n",
    "    message = b\"Hello, world!\"\n",
    "    \n",
    "    # Criptografando a mensagem para a identidade especificada\n",
    "    ciphertext = bf_crypto.BFencrypt(message, identity, public_params)\n",
    "    \n",
    "    # Descriptografando a mensagem usando a chave privada correspondente\n",
    "    decrypted_message = bf_crypto.BFdecrypt(private_key, ciphertext, public_params)\n",
    "    \n",
    "    # Verificando se a mensagem descriptografada é igual à mensagem original\n",
    "    assert decrypted_message == message, \"Decryption failed!\"\n",
    "    \n",
    "    print(\"Test passed successfully!\")\n",
    "\n",
    "test_BF_cryptosystem(bf_crypto,identity, public_params , private_key)"
   ]
  }
 ],
 "metadata": {
  "kernelspec": {
   "display_name": "SageMath 10.2",
   "language": "sage",
   "name": "sagemath"
  },
  "language_info": {
   "codemirror_mode": {
    "name": "ipython",
    "version": 3
   },
   "file_extension": ".py",
   "mimetype": "text/x-python",
   "name": "sage",
   "nbconvert_exporter": "python",
   "pygments_lexer": "ipython3",
   "version": "3.11.8"
  }
 },
 "nbformat": 4,
 "nbformat_minor": 2
}
